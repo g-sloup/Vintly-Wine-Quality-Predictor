{
 "cells": [
  {
   "cell_type": "markdown",
   "metadata": {},
   "source": [
    "https://www.geeksforgeeks.org/ml-handling-imbalanced-data-with-smote-and-near-miss-algorithm-in-python/"
   ]
  },
  {
   "cell_type": "code",
   "execution_count": 1,
   "metadata": {},
   "outputs": [
    {
     "name": "stdout",
     "output_type": "stream",
     "text": [
      "Requirement already satisfied: imbalanced-learn in c:\\users\\gu202\\anaconda3\\envs\\pythondata\\lib\\site-packages (0.7.0)\n",
      "Requirement already satisfied: numpy>=1.13.3 in c:\\users\\gu202\\anaconda3\\envs\\pythondata\\lib\\site-packages (from imbalanced-learn) (1.18.5)\n",
      "Requirement already satisfied: scipy>=0.19.1 in c:\\users\\gu202\\anaconda3\\envs\\pythondata\\lib\\site-packages (from imbalanced-learn) (1.5.0)\n",
      "Requirement already satisfied: joblib>=0.11 in c:\\users\\gu202\\anaconda3\\envs\\pythondata\\lib\\site-packages (from imbalanced-learn) (1.0.0)\n",
      "Requirement already satisfied: scikit-learn>=0.23 in c:\\users\\gu202\\anaconda3\\envs\\pythondata\\lib\\site-packages (from imbalanced-learn) (0.24.1)\n",
      "Requirement already satisfied: threadpoolctl>=2.0.0 in c:\\users\\gu202\\anaconda3\\envs\\pythondata\\lib\\site-packages (from scikit-learn>=0.23->imbalanced-learn) (2.1.0)\n"
     ]
    }
   ],
   "source": [
    "import pandas as pd\n",
    "import matplotlib.pyplot as plt\n",
    "import numpy as np\n",
    "!pip install imbalanced-learn\n",
    "from sklearn.linear_model import LogisticRegression\n",
    "from sklearn.preprocessing import StandardScaler, LabelEncoder\n",
    "from sklearn.metrics import confusion_matrix, classification_report\n",
    "from sklearn.tree import DecisionTreeClassifier\n",
    "from IPython.display import Image  \n",
    "from six import StringIO  \n",
    "from sklearn.tree import export_graphviz"
   ]
  },
  {
   "cell_type": "code",
   "execution_count": 2,
   "metadata": {},
   "outputs": [
    {
     "data": {
      "text/html": [
       "<div>\n",
       "<style scoped>\n",
       "    .dataframe tbody tr th:only-of-type {\n",
       "        vertical-align: middle;\n",
       "    }\n",
       "\n",
       "    .dataframe tbody tr th {\n",
       "        vertical-align: top;\n",
       "    }\n",
       "\n",
       "    .dataframe thead th {\n",
       "        text-align: right;\n",
       "    }\n",
       "</style>\n",
       "<table border=\"1\" class=\"dataframe\">\n",
       "  <thead>\n",
       "    <tr style=\"text-align: right;\">\n",
       "      <th></th>\n",
       "      <th>fixed acidity</th>\n",
       "      <th>volatile acidity</th>\n",
       "      <th>citric acid</th>\n",
       "      <th>residual sugar</th>\n",
       "      <th>chlorides</th>\n",
       "      <th>free sulfur dioxide</th>\n",
       "      <th>total sulfur dioxide</th>\n",
       "      <th>density</th>\n",
       "      <th>pH</th>\n",
       "      <th>sulphates</th>\n",
       "      <th>alcohol</th>\n",
       "      <th>type</th>\n",
       "    </tr>\n",
       "    <tr>\n",
       "      <th>quality</th>\n",
       "      <th></th>\n",
       "      <th></th>\n",
       "      <th></th>\n",
       "      <th></th>\n",
       "      <th></th>\n",
       "      <th></th>\n",
       "      <th></th>\n",
       "      <th></th>\n",
       "      <th></th>\n",
       "      <th></th>\n",
       "      <th></th>\n",
       "      <th></th>\n",
       "    </tr>\n",
       "  </thead>\n",
       "  <tbody>\n",
       "    <tr>\n",
       "      <th>3</th>\n",
       "      <td>30</td>\n",
       "      <td>30</td>\n",
       "      <td>30</td>\n",
       "      <td>30</td>\n",
       "      <td>30</td>\n",
       "      <td>30</td>\n",
       "      <td>30</td>\n",
       "      <td>30</td>\n",
       "      <td>30</td>\n",
       "      <td>30</td>\n",
       "      <td>30</td>\n",
       "      <td>30</td>\n",
       "    </tr>\n",
       "    <tr>\n",
       "      <th>4</th>\n",
       "      <td>216</td>\n",
       "      <td>216</td>\n",
       "      <td>216</td>\n",
       "      <td>216</td>\n",
       "      <td>216</td>\n",
       "      <td>216</td>\n",
       "      <td>216</td>\n",
       "      <td>216</td>\n",
       "      <td>216</td>\n",
       "      <td>216</td>\n",
       "      <td>216</td>\n",
       "      <td>216</td>\n",
       "    </tr>\n",
       "    <tr>\n",
       "      <th>5</th>\n",
       "      <td>2138</td>\n",
       "      <td>2138</td>\n",
       "      <td>2138</td>\n",
       "      <td>2138</td>\n",
       "      <td>2138</td>\n",
       "      <td>2138</td>\n",
       "      <td>2138</td>\n",
       "      <td>2138</td>\n",
       "      <td>2138</td>\n",
       "      <td>2138</td>\n",
       "      <td>2138</td>\n",
       "      <td>2138</td>\n",
       "    </tr>\n",
       "    <tr>\n",
       "      <th>6</th>\n",
       "      <td>2836</td>\n",
       "      <td>2836</td>\n",
       "      <td>2836</td>\n",
       "      <td>2836</td>\n",
       "      <td>2836</td>\n",
       "      <td>2836</td>\n",
       "      <td>2836</td>\n",
       "      <td>2836</td>\n",
       "      <td>2836</td>\n",
       "      <td>2836</td>\n",
       "      <td>2836</td>\n",
       "      <td>2836</td>\n",
       "    </tr>\n",
       "    <tr>\n",
       "      <th>7</th>\n",
       "      <td>1079</td>\n",
       "      <td>1079</td>\n",
       "      <td>1079</td>\n",
       "      <td>1079</td>\n",
       "      <td>1079</td>\n",
       "      <td>1079</td>\n",
       "      <td>1079</td>\n",
       "      <td>1079</td>\n",
       "      <td>1079</td>\n",
       "      <td>1079</td>\n",
       "      <td>1079</td>\n",
       "      <td>1079</td>\n",
       "    </tr>\n",
       "    <tr>\n",
       "      <th>8</th>\n",
       "      <td>193</td>\n",
       "      <td>193</td>\n",
       "      <td>193</td>\n",
       "      <td>193</td>\n",
       "      <td>193</td>\n",
       "      <td>193</td>\n",
       "      <td>193</td>\n",
       "      <td>193</td>\n",
       "      <td>193</td>\n",
       "      <td>193</td>\n",
       "      <td>193</td>\n",
       "      <td>193</td>\n",
       "    </tr>\n",
       "    <tr>\n",
       "      <th>9</th>\n",
       "      <td>5</td>\n",
       "      <td>5</td>\n",
       "      <td>5</td>\n",
       "      <td>5</td>\n",
       "      <td>5</td>\n",
       "      <td>5</td>\n",
       "      <td>5</td>\n",
       "      <td>5</td>\n",
       "      <td>5</td>\n",
       "      <td>5</td>\n",
       "      <td>5</td>\n",
       "      <td>5</td>\n",
       "    </tr>\n",
       "  </tbody>\n",
       "</table>\n",
       "</div>"
      ],
      "text/plain": [
       "         fixed acidity  volatile acidity  citric acid  residual sugar  \\\n",
       "quality                                                                 \n",
       "3                   30                30           30              30   \n",
       "4                  216               216          216             216   \n",
       "5                 2138              2138         2138            2138   \n",
       "6                 2836              2836         2836            2836   \n",
       "7                 1079              1079         1079            1079   \n",
       "8                  193               193          193             193   \n",
       "9                    5                 5            5               5   \n",
       "\n",
       "         chlorides  free sulfur dioxide  total sulfur dioxide  density    pH  \\\n",
       "quality                                                                        \n",
       "3               30                   30                    30       30    30   \n",
       "4              216                  216                   216      216   216   \n",
       "5             2138                 2138                  2138     2138  2138   \n",
       "6             2836                 2836                  2836     2836  2836   \n",
       "7             1079                 1079                  1079     1079  1079   \n",
       "8              193                  193                   193      193   193   \n",
       "9                5                    5                     5        5     5   \n",
       "\n",
       "         sulphates  alcohol  type  \n",
       "quality                            \n",
       "3               30       30    30  \n",
       "4              216      216   216  \n",
       "5             2138     2138  2138  \n",
       "6             2836     2836  2836  \n",
       "7             1079     1079  1079  \n",
       "8              193      193   193  \n",
       "9                5        5     5  "
      ]
     },
     "execution_count": 2,
     "metadata": {},
     "output_type": "execute_result"
    }
   ],
   "source": [
    "#  Read the CSV and Perform Basic Data Cleaning\n",
    "data = pd.read_csv('../data/combined_wine.csv', sep=',')\n",
    "# Drop the null columns where all values are null\n",
    "data = data.dropna(axis='columns', how='all')\n",
    "# Drop the null rows\n",
    "data = data.dropna()\n",
    "\n",
    "#the n_neighbors error is happening because there are so few \"9\" class members - elimintating them should remove the\n",
    "#problem (just as proof of concept, we want these points)\n",
    "\n",
    "#data = data.drop(data[(data.quality == 9)].index)\n",
    "\n",
    "\n",
    "\n",
    "data.groupby([\"quality\"]).count()\n",
    "\n",
    "#no quality = 9 row now"
   ]
  },
  {
   "cell_type": "code",
   "execution_count": 3,
   "metadata": {},
   "outputs": [
    {
     "name": "stdout",
     "output_type": "stream",
     "text": [
      "<class 'pandas.core.frame.DataFrame'>\n",
      "Int64Index: 6497 entries, 0 to 6496\n",
      "Data columns (total 13 columns):\n",
      " #   Column                Non-Null Count  Dtype  \n",
      "---  ------                --------------  -----  \n",
      " 0   fixed acidity         6497 non-null   float64\n",
      " 1   volatile acidity      6497 non-null   float64\n",
      " 2   citric acid           6497 non-null   float64\n",
      " 3   residual sugar        6497 non-null   float64\n",
      " 4   chlorides             6497 non-null   float64\n",
      " 5   free sulfur dioxide   6497 non-null   float64\n",
      " 6   total sulfur dioxide  6497 non-null   float64\n",
      " 7   density               6497 non-null   float64\n",
      " 8   pH                    6497 non-null   float64\n",
      " 9   sulphates             6497 non-null   float64\n",
      " 10  alcohol               6497 non-null   float64\n",
      " 11  quality               6497 non-null   int64  \n",
      " 12  type                  6497 non-null   int64  \n",
      "dtypes: float64(11), int64(2)\n",
      "memory usage: 710.6 KB\n",
      "None\n"
     ]
    }
   ],
   "source": [
    "print(data.info())"
   ]
  },
  {
   "cell_type": "code",
   "execution_count": 4,
   "metadata": {},
   "outputs": [],
   "source": [
    "#Dividing wine as good and bad by giving the limit for the quality\n",
    "bins = (2, 6.5, 9)\n",
    "group_names = ['bad', 'good']\n",
    "data['quality'] = pd.cut(data['quality'], bins = bins, labels = group_names)"
   ]
  },
  {
   "cell_type": "code",
   "execution_count": 5,
   "metadata": {},
   "outputs": [],
   "source": [
    "#Now lets assign a labels to our quality variable\n",
    "label_quality = LabelEncoder()"
   ]
  },
  {
   "cell_type": "code",
   "execution_count": 6,
   "metadata": {},
   "outputs": [],
   "source": [
    "#Bad becomes 0 and good becomes 1 \n",
    "data['quality'] = label_quality.fit_transform(data['quality'])"
   ]
  },
  {
   "cell_type": "code",
   "execution_count": 7,
   "metadata": {},
   "outputs": [
    {
     "data": {
      "text/plain": [
       "0    5220\n",
       "1    1277\n",
       "Name: quality, dtype: int64"
      ]
     },
     "execution_count": 7,
     "metadata": {},
     "output_type": "execute_result"
    }
   ],
   "source": [
    "data['quality'].value_counts()"
   ]
  },
  {
   "cell_type": "code",
   "execution_count": 8,
   "metadata": {},
   "outputs": [
    {
     "data": {
      "text/plain": [
       "-0.494607    5220\n",
       " 2.021807    1277\n",
       "Name: normquality, dtype: int64"
      ]
     },
     "execution_count": 8,
     "metadata": {},
     "output_type": "execute_result"
    }
   ],
   "source": [
    "# normalise the quality column \n",
    "data['normquality'] = StandardScaler().fit_transform(np.array(data['quality']).reshape(-1, 1)) \n",
    "# drop irrevelent columns as they are not relevant for prediction purpose  \n",
    "# df = df.drop(['fixed acidity', 'citric acid', 'residual sugar', 'free sulfur dioxide', 'total sulfur dioxide', 'pH', 'sulphates'], axis = 1) \n",
    "   \n",
    "data['normquality'].value_counts() "
   ]
  },
  {
   "cell_type": "code",
   "execution_count": 9,
   "metadata": {},
   "outputs": [],
   "source": [
    "#X = data.drop(columns=[\"quality\"])\n",
    "#y = data[\"quality\"]\n",
    "#print(X.shape, y.shape)"
   ]
  },
  {
   "cell_type": "code",
   "execution_count": 10,
   "metadata": {},
   "outputs": [],
   "source": [
    "# Let's split the data into training and testing sets:\n",
    "#X_train = data.values[0:5000]\n",
    "#X_test = data.values[5000:]"
   ]
  },
  {
   "cell_type": "code",
   "execution_count": 11,
   "metadata": {},
   "outputs": [
    {
     "name": "stdout",
     "output_type": "stream",
     "text": [
      "X_train dataset:  (4872, 12)\n",
      "y_train dataset:  (4872,)\n",
      "X_test dataset:  (1625, 12)\n",
      "y_test dataset:  (1625,)\n"
     ]
    }
   ],
   "source": [
    "from sklearn.model_selection import train_test_split\n",
    "\n",
    "y = data[\"quality\"]\n",
    "# X = data.drop(columns=[\"quality\"])\n",
    "X = data[[\"alcohol\", \"chlorides\", \"density\", \"volatile acidity\",\"residual sugar\", \"citric acid\", \"free sulfur dioxide\", \"type\", \"pH\", \"fixed acidity\", \"total sulfur dioxide\", \"sulphates\"]]\n",
    "\n",
    "X_train, X_test, y_train, y_test = train_test_split(X, y, random_state=0, stratify=y)\n",
    "\n",
    "# split into 70:30 ration\n",
    "#X_train, X_test, y_train, y_test = train_test_split(X, y, test_size = 0.3, random_state = 0)\n",
    "\n",
    "# describes info about train and test set\n",
    "print(\"X_train dataset: \", X_train.shape) \n",
    "print(\"y_train dataset: \", y_train.shape) \n",
    "print(\"X_test dataset: \", X_test.shape) \n",
    "print(\"y_test dataset: \", y_test.shape) "
   ]
  },
  {
   "cell_type": "code",
   "execution_count": 12,
   "metadata": {},
   "outputs": [
    {
     "name": "stdout",
     "output_type": "stream",
     "text": [
      "              precision    recall  f1-score   support\n",
      "\n",
      "           0       0.84      0.95      0.89      1306\n",
      "           1       0.54      0.24      0.33       319\n",
      "\n",
      "    accuracy                           0.81      1625\n",
      "   macro avg       0.69      0.60      0.61      1625\n",
      "weighted avg       0.78      0.81      0.78      1625\n",
      "\n"
     ]
    }
   ],
   "source": [
    "# logistic regression object \n",
    "lr = LogisticRegression(max_iter=10000) \n",
    "  \n",
    "# train the model on train set \n",
    "lr.fit(X_train, y_train.ravel()) \n",
    "  \n",
    "predictions = lr.predict(X_test) \n",
    "  \n",
    "# print classification report \n",
    "print(classification_report(y_test, predictions)) "
   ]
  },
  {
   "cell_type": "code",
   "execution_count": 13,
   "metadata": {},
   "outputs": [
    {
     "name": "stdout",
     "output_type": "stream",
     "text": [
      "Requirement already satisfied: mlrose in c:\\users\\gu202\\anaconda3\\envs\\pythondata\\lib\\site-packages (1.3.0)\n",
      "Requirement already satisfied: scipy in c:\\users\\gu202\\anaconda3\\envs\\pythondata\\lib\\site-packages (from mlrose) (1.5.0)\n",
      "Requirement already satisfied: numpy in c:\\users\\gu202\\anaconda3\\envs\\pythondata\\lib\\site-packages (from mlrose) (1.18.5)\n",
      "Requirement already satisfied: sklearn in c:\\users\\gu202\\anaconda3\\envs\\pythondata\\lib\\site-packages (from mlrose) (0.0)\n",
      "Requirement already satisfied: scikit-learn in c:\\users\\gu202\\anaconda3\\envs\\pythondata\\lib\\site-packages (from sklearn->mlrose) (0.24.1)\n",
      "Requirement already satisfied: joblib>=0.11 in c:\\users\\gu202\\anaconda3\\envs\\pythondata\\lib\\site-packages (from scikit-learn->sklearn->mlrose) (1.0.0)\n",
      "Requirement already satisfied: threadpoolctl>=2.0.0 in c:\\users\\gu202\\anaconda3\\envs\\pythondata\\lib\\site-packages (from scikit-learn->sklearn->mlrose) (2.1.0)\n"
     ]
    }
   ],
   "source": [
    "!pip install mlrose"
   ]
  },
  {
   "cell_type": "code",
   "execution_count": 13,
   "metadata": {},
   "outputs": [
    {
     "name": "stdout",
     "output_type": "stream",
     "text": [
      "      alcohol  chlorides  density  volatile acidity  residual sugar  \\\n",
      "4169     11.4      0.028  0.99182              0.24             1.8   \n",
      "1295      9.5      0.093  0.99558              0.63             4.3   \n",
      "\n",
      "      citric acid  free sulfur dioxide  type    pH  fixed acidity  \\\n",
      "4169         0.28                 39.0     0  3.34            6.6   \n",
      "1295         0.00                 51.0     1  3.20            6.6   \n",
      "\n",
      "      total sulfur dioxide  sulphates  \n",
      "4169                 132.0       0.46  \n",
      "1295                  77.5       0.45  \n"
     ]
    }
   ],
   "source": [
    "print(X_test[:2])"
   ]
  },
  {
   "cell_type": "code",
   "execution_count": 14,
   "metadata": {
    "scrolled": true
   },
   "outputs": [
    {
     "name": "stdout",
     "output_type": "stream",
     "text": [
      "Before OverSampling, counts of label '1': 958\n",
      "Before OverSampling, counts of label '0': 3914 \n",
      "\n",
      "After OverSampling, the shape of train_X: (7828, 12)\n",
      "After OverSampling, the shape of train_y: (7828,) \n",
      "\n",
      "After OverSampling, counts of label '1': 3914\n",
      "After OverSampling, counts of label '0': 3914\n"
     ]
    }
   ],
   "source": [
    "print(\"Before OverSampling, counts of label '1': {}\".format(sum(y_train == 1))) \n",
    "print(\"Before OverSampling, counts of label '0': {} \\n\".format(sum(y_train == 0))) \n",
    "  \n",
    "# import SMOTE module from imblearn library \n",
    "#!pip install mlrose (done in cell above), six\n",
    "#!pip instal imblearn done in first cell\n",
    "from imblearn.over_sampling import SMOTE\n",
    "import six\n",
    "import sys\n",
    "sys.modules['sklearn.externals.six'] = six\n",
    "from six import StringIO\n",
    "import mlrose\n",
    "\n",
    "sm = SMOTE(random_state = 2) \n",
    "X_train_res, y_train_res = sm.fit_sample(X_train, y_train.ravel()) \n",
    "  \n",
    "print('After OverSampling, the shape of train_X: {}'.format(X_train_res.shape)) \n",
    "print('After OverSampling, the shape of train_y: {} \\n'.format(y_train_res.shape)) \n",
    "  \n",
    "print(\"After OverSampling, counts of label '1': {}\".format(sum(y_train_res == 1))) \n",
    "print(\"After OverSampling, counts of label '0': {}\".format(sum(y_train_res == 0))) "
   ]
  },
  {
   "cell_type": "code",
   "execution_count": 15,
   "metadata": {},
   "outputs": [
    {
     "name": "stdout",
     "output_type": "stream",
     "text": [
      "              precision    recall  f1-score   support\n",
      "\n",
      "           0       0.92      0.71      0.80      1306\n",
      "           1       0.39      0.76      0.51       319\n",
      "\n",
      "    accuracy                           0.72      1625\n",
      "   macro avg       0.66      0.73      0.66      1625\n",
      "weighted avg       0.82      0.72      0.75      1625\n",
      "\n"
     ]
    }
   ],
   "source": [
    "lr1 = LogisticRegression(max_iter=50000) \n",
    "lr1.fit(X_train_res, y_train_res.ravel()) \n",
    "predictions = lr1.predict(X_test) \n",
    "\n",
    "# print classification report \n",
    "print(classification_report(y_test, predictions)) "
   ]
  },
  {
   "cell_type": "code",
   "execution_count": 16,
   "metadata": {},
   "outputs": [
    {
     "data": {
      "text/plain": [
       "['logistic_model.pkl']"
      ]
     },
     "execution_count": 16,
     "metadata": {},
     "output_type": "execute_result"
    }
   ],
   "source": [
    "# Save the Model\n",
    "\n",
    "import joblib\n",
    "filename = 'logistic_model.pkl'\n",
    "joblib.dump(lr1, filename)"
   ]
  },
  {
   "cell_type": "code",
   "execution_count": 17,
   "metadata": {},
   "outputs": [],
   "source": [
    "import pickle\n",
    "model_file = 'logistic_model.pkl'\n",
    "pickle.dump(lr1, open(model_file, 'wb'))"
   ]
  },
  {
   "cell_type": "code",
   "execution_count": 17,
   "metadata": {},
   "outputs": [
    {
     "data": {
      "text/plain": [
       "array([[924, 382],\n",
       "       [ 76, 243]], dtype=int64)"
      ]
     },
     "execution_count": 17,
     "metadata": {},
     "output_type": "execute_result"
    }
   ],
   "source": [
    "from sklearn.metrics import confusion_matrix\n",
    "confusion_matrix(y_test, predictions)\n"
   ]
  },
  {
   "cell_type": "code",
   "execution_count": 18,
   "metadata": {},
   "outputs": [
    {
     "data": {
      "text/html": [
       "<div>\n",
       "<style scoped>\n",
       "    .dataframe tbody tr th:only-of-type {\n",
       "        vertical-align: middle;\n",
       "    }\n",
       "\n",
       "    .dataframe tbody tr th {\n",
       "        vertical-align: top;\n",
       "    }\n",
       "\n",
       "    .dataframe thead th {\n",
       "        text-align: right;\n",
       "    }\n",
       "</style>\n",
       "<table border=\"1\" class=\"dataframe\">\n",
       "  <thead>\n",
       "    <tr style=\"text-align: right;\">\n",
       "      <th></th>\n",
       "      <th>Prediction</th>\n",
       "      <th>Actual</th>\n",
       "    </tr>\n",
       "  </thead>\n",
       "  <tbody>\n",
       "    <tr>\n",
       "      <th>4169</th>\n",
       "      <td>1</td>\n",
       "      <td>0</td>\n",
       "    </tr>\n",
       "    <tr>\n",
       "      <th>1295</th>\n",
       "      <td>0</td>\n",
       "      <td>0</td>\n",
       "    </tr>\n",
       "    <tr>\n",
       "      <th>1444</th>\n",
       "      <td>0</td>\n",
       "      <td>0</td>\n",
       "    </tr>\n",
       "    <tr>\n",
       "      <th>4105</th>\n",
       "      <td>0</td>\n",
       "      <td>0</td>\n",
       "    </tr>\n",
       "    <tr>\n",
       "      <th>4802</th>\n",
       "      <td>1</td>\n",
       "      <td>1</td>\n",
       "    </tr>\n",
       "    <tr>\n",
       "      <th>2199</th>\n",
       "      <td>0</td>\n",
       "      <td>0</td>\n",
       "    </tr>\n",
       "    <tr>\n",
       "      <th>3355</th>\n",
       "      <td>0</td>\n",
       "      <td>0</td>\n",
       "    </tr>\n",
       "    <tr>\n",
       "      <th>2548</th>\n",
       "      <td>1</td>\n",
       "      <td>0</td>\n",
       "    </tr>\n",
       "    <tr>\n",
       "      <th>5240</th>\n",
       "      <td>1</td>\n",
       "      <td>0</td>\n",
       "    </tr>\n",
       "    <tr>\n",
       "      <th>4011</th>\n",
       "      <td>0</td>\n",
       "      <td>0</td>\n",
       "    </tr>\n",
       "    <tr>\n",
       "      <th>3458</th>\n",
       "      <td>1</td>\n",
       "      <td>0</td>\n",
       "    </tr>\n",
       "    <tr>\n",
       "      <th>5805</th>\n",
       "      <td>0</td>\n",
       "      <td>0</td>\n",
       "    </tr>\n",
       "    <tr>\n",
       "      <th>1248</th>\n",
       "      <td>0</td>\n",
       "      <td>0</td>\n",
       "    </tr>\n",
       "    <tr>\n",
       "      <th>5529</th>\n",
       "      <td>1</td>\n",
       "      <td>0</td>\n",
       "    </tr>\n",
       "    <tr>\n",
       "      <th>4949</th>\n",
       "      <td>1</td>\n",
       "      <td>0</td>\n",
       "    </tr>\n",
       "    <tr>\n",
       "      <th>3953</th>\n",
       "      <td>1</td>\n",
       "      <td>0</td>\n",
       "    </tr>\n",
       "    <tr>\n",
       "      <th>5632</th>\n",
       "      <td>1</td>\n",
       "      <td>0</td>\n",
       "    </tr>\n",
       "    <tr>\n",
       "      <th>1934</th>\n",
       "      <td>1</td>\n",
       "      <td>0</td>\n",
       "    </tr>\n",
       "    <tr>\n",
       "      <th>6183</th>\n",
       "      <td>0</td>\n",
       "      <td>0</td>\n",
       "    </tr>\n",
       "    <tr>\n",
       "      <th>970</th>\n",
       "      <td>1</td>\n",
       "      <td>0</td>\n",
       "    </tr>\n",
       "  </tbody>\n",
       "</table>\n",
       "</div>"
      ],
      "text/plain": [
       "      Prediction  Actual\n",
       "4169           1       0\n",
       "1295           0       0\n",
       "1444           0       0\n",
       "4105           0       0\n",
       "4802           1       1\n",
       "2199           0       0\n",
       "3355           0       0\n",
       "2548           1       0\n",
       "5240           1       0\n",
       "4011           0       0\n",
       "3458           1       0\n",
       "5805           0       0\n",
       "1248           0       0\n",
       "5529           1       0\n",
       "4949           1       0\n",
       "3953           1       0\n",
       "5632           1       0\n",
       "1934           1       0\n",
       "6183           0       0\n",
       "970            1       0"
      ]
     },
     "execution_count": 18,
     "metadata": {},
     "output_type": "execute_result"
    }
   ],
   "source": [
    "matrix = pd.DataFrame({\"Prediction\": predictions[:20], \"Actual\": y_test[:20]})\n",
    "matrix"
   ]
  },
  {
   "cell_type": "code",
   "execution_count": 17,
   "metadata": {},
   "outputs": [
    {
     "name": "stdout",
     "output_type": "stream",
     "text": [
      "<class 'pandas.core.frame.DataFrame'>\n",
      "Int64Index: 4872 entries, 4182 to 1866\n",
      "Data columns (total 12 columns):\n",
      " #   Column                Non-Null Count  Dtype  \n",
      "---  ------                --------------  -----  \n",
      " 0   alcohol               4872 non-null   float64\n",
      " 1   chlorides             4872 non-null   float64\n",
      " 2   density               4872 non-null   float64\n",
      " 3   volatile acidity      4872 non-null   float64\n",
      " 4   residual sugar        4872 non-null   float64\n",
      " 5   citric acid           4872 non-null   float64\n",
      " 6   free sulfur dioxide   4872 non-null   float64\n",
      " 7   type                  4872 non-null   int64  \n",
      " 8   pH                    4872 non-null   float64\n",
      " 9   fixed acidity         4872 non-null   float64\n",
      " 10  total sulfur dioxide  4872 non-null   float64\n",
      " 11  sulphates             4872 non-null   float64\n",
      "dtypes: float64(11), int64(1)\n",
      "memory usage: 494.8 KB\n"
     ]
    }
   ],
   "source": [
    "#To show what SMOTE does, let visualize the good and bad wines as a function of alcohol and density (before SMOTE)\n",
    "X_train.info()"
   ]
  },
  {
   "cell_type": "code",
   "execution_count": null,
   "metadata": {},
   "outputs": [],
   "source": []
  },
  {
   "cell_type": "code",
   "execution_count": 18,
   "metadata": {},
   "outputs": [
    {
     "data": {
      "text/plain": [
       "array([9.0000e+00, 6.2000e-02, 9.9808e-01, 1.8000e-01, 1.2800e+01,\n",
       "       3.0000e-01, 1.9000e+01, 0.0000e+00, 3.0000e+00, 6.8000e+00,\n",
       "       1.7100e+02, 5.2000e-01])"
      ]
     },
     "execution_count": 18,
     "metadata": {},
     "output_type": "execute_result"
    }
   ],
   "source": [
    "#We need to turn this dataframe into a numpy array\n",
    "\n",
    "X_train_2 = X_train.sort_index()\n",
    "X_train_2 = X_train.to_numpy()\n",
    "X_train_2[0]"
   ]
  },
  {
   "cell_type": "code",
   "execution_count": 19,
   "metadata": {},
   "outputs": [
    {
     "name": "stdout",
     "output_type": "stream",
     "text": [
      "<class 'pandas.core.frame.DataFrame'>\n",
      "RangeIndex: 7828 entries, 0 to 7827\n",
      "Data columns (total 12 columns):\n",
      " #   Column                Non-Null Count  Dtype  \n",
      "---  ------                --------------  -----  \n",
      " 0   alcohol               7828 non-null   float64\n",
      " 1   chlorides             7828 non-null   float64\n",
      " 2   density               7828 non-null   float64\n",
      " 3   volatile acidity      7828 non-null   float64\n",
      " 4   residual sugar        7828 non-null   float64\n",
      " 5   citric acid           7828 non-null   float64\n",
      " 6   free sulfur dioxide   7828 non-null   float64\n",
      " 7   type                  7828 non-null   int64  \n",
      " 8   pH                    7828 non-null   float64\n",
      " 9   fixed acidity         7828 non-null   float64\n",
      " 10  total sulfur dioxide  7828 non-null   float64\n",
      " 11  sulphates             7828 non-null   float64\n",
      "dtypes: float64(11), int64(1)\n",
      "memory usage: 734.0 KB\n"
     ]
    }
   ],
   "source": [
    "#To show what SMOTE does, let visualize the good and bad wines as a function of alcohol and density (after SMOTE)\n",
    "\n",
    "X_train_res.info()"
   ]
  },
  {
   "cell_type": "code",
   "execution_count": 20,
   "metadata": {},
   "outputs": [
    {
     "data": {
      "text/plain": [
       "array([9.0000e+00, 6.2000e-02, 9.9808e-01, 1.8000e-01, 1.2800e+01,\n",
       "       3.0000e-01, 1.9000e+01, 0.0000e+00, 3.0000e+00, 6.8000e+00,\n",
       "       1.7100e+02, 5.2000e-01])"
      ]
     },
     "execution_count": 20,
     "metadata": {},
     "output_type": "execute_result"
    }
   ],
   "source": [
    "#We need to turn this dataframe into a numpy array\n",
    "\n",
    "X_train_res_2 = X_train_res.sort_index()\n",
    "X_train_res_2 = X_train_res.to_numpy()\n",
    "X_train_res_2[0]"
   ]
  },
  {
   "cell_type": "code",
   "execution_count": 23,
   "metadata": {},
   "outputs": [
    {
     "name": "stdout",
     "output_type": "stream",
     "text": [
      "Counter({0: 3914, 1: 958})\n"
     ]
    },
    {
     "data": {
      "image/png": "[encoded data removed]",
      "text/plain": [
       "<Figure size 432x288 with 1 Axes>"
      ]
     },
     "metadata": {
      "needs_background": "light"
     },
     "output_type": "display_data"
    }
   ],
   "source": [
    "from collections import Counter\n",
    "from matplotlib import pyplot\n",
    "from numpy import where\n",
    "\n",
    "\n",
    "counter = Counter(y_train)\n",
    "print(counter)\n",
    "\n",
    "y_train_rav = y_train.ravel()\n",
    "\n",
    "\n",
    "# scatter plot of examples by class label before SMOTE\n",
    "\n",
    "for label, _ in counter.items():\n",
    "    row_ix = where(y_train_rav == label)[0]\n",
    "    pyplot.scatter(X_train_2[row_ix, 0], X_train_2[row_ix, 2], label=str(label), s=4)\n",
    "pyplot.legend()\n",
    "pyplot.title(\"After SMOTE\")\n",
    "pyplot.xlabel(\"Alcohol (%)\")\n",
    "pyplot.ylabel(\"Density (g/mL)\")\n",
    "pyplot.show()"
   ]
  },
  {
   "cell_type": "code",
   "execution_count": 22,
   "metadata": {},
   "outputs": [
    {
     "name": "stdout",
     "output_type": "stream",
     "text": [
      "Counter({1: 3914, 0: 3914})\n"
     ]
    },
    {
     "data": {
      "image/png": "[encoded data removed]",
      "text/plain": [
       "<Figure size 432x288 with 1 Axes>"
      ]
     },
     "metadata": {
      "needs_background": "light"
     },
     "output_type": "display_data"
    }
   ],
   "source": [
    "#AFTER smote\n",
    "\n",
    "y_train_res_rav = y_train_res.ravel()\n",
    "\n",
    "counter = Counter(y_train_res)\n",
    "print(counter)\n",
    "\n",
    "for label, _ in counter.items():\n",
    "    row_ix = where(y_train_res == label)[0]\n",
    "    pyplot.scatter(X_train_res_2[row_ix, 0], X_train_res_2[row_ix, 2], label=str(label), s=4)\n",
    "pyplot.legend()\n",
    "pyplot.title(\"After SMOTE\")\n",
    "pyplot.xlabel(\"Alcohol (%)\")\n",
    "pyplot.ylabel(\"Density (g/mL)\")\n",
    "pyplot.show()"
   ]
  },
  {
   "cell_type": "code",
   "execution_count": null,
   "metadata": {},
   "outputs": [],
   "source": [
    "#forced blue 1's on top so that's why they may look now OVERsampled on second plot."
   ]
  }
 ],
 "metadata": {
  "kernelspec": {
   "display_name": "Python [conda env:PythonData]",
   "language": "python",
   "name": "conda-env-PythonData-py"
  },
  "language_info": {
   "codemirror_mode": {
    "name": "ipython",
    "version": 3
   },
   "file_extension": ".py",
   "mimetype": "text/x-python",
   "name": "python",
   "nbconvert_exporter": "python",
   "pygments_lexer": "ipython3",
   "version": "3.6.10"
  }
 },
 "nbformat": 4,
 "nbformat_minor": 4
}
