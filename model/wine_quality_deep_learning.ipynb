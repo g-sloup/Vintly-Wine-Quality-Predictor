{
 "cells": [
  {
   "cell_type": "code",
   "execution_count": 2,
   "metadata": {},
   "outputs": [],
   "source": [
    "import pandas as pd\n",
    "from sklearn.preprocessing import StandardScaler, LabelEncoder\n",
    "import seaborn as sns"
   ]
  },
  {
   "cell_type": "code",
   "execution_count": 3,
   "metadata": {
    "scrolled": true
   },
   "outputs": [
    {
     "data": {
      "text/html": [
       "<div>\n",
       "<style scoped>\n",
       "    .dataframe tbody tr th:only-of-type {\n",
       "        vertical-align: middle;\n",
       "    }\n",
       "\n",
       "    .dataframe tbody tr th {\n",
       "        vertical-align: top;\n",
       "    }\n",
       "\n",
       "    .dataframe thead th {\n",
       "        text-align: right;\n",
       "    }\n",
       "</style>\n",
       "<table border=\"1\" class=\"dataframe\">\n",
       "  <thead>\n",
       "    <tr style=\"text-align: right;\">\n",
       "      <th></th>\n",
       "      <th>fixed acidity</th>\n",
       "      <th>volatile acidity</th>\n",
       "      <th>citric acid</th>\n",
       "      <th>residual sugar</th>\n",
       "      <th>chlorides</th>\n",
       "      <th>free sulfur dioxide</th>\n",
       "      <th>total sulfur dioxide</th>\n",
       "      <th>density</th>\n",
       "      <th>pH</th>\n",
       "      <th>sulphates</th>\n",
       "      <th>alcohol</th>\n",
       "      <th>quality</th>\n",
       "    </tr>\n",
       "  </thead>\n",
       "  <tbody>\n",
       "    <tr>\n",
       "      <th>0</th>\n",
       "      <td>7.4</td>\n",
       "      <td>0.70</td>\n",
       "      <td>0.00</td>\n",
       "      <td>1.9</td>\n",
       "      <td>0.076</td>\n",
       "      <td>11.0</td>\n",
       "      <td>34.0</td>\n",
       "      <td>0.9978</td>\n",
       "      <td>3.51</td>\n",
       "      <td>0.56</td>\n",
       "      <td>9.4</td>\n",
       "      <td>5</td>\n",
       "    </tr>\n",
       "    <tr>\n",
       "      <th>1</th>\n",
       "      <td>7.4</td>\n",
       "      <td>0.70</td>\n",
       "      <td>0.00</td>\n",
       "      <td>1.9</td>\n",
       "      <td>0.076</td>\n",
       "      <td>11.0</td>\n",
       "      <td>34.0</td>\n",
       "      <td>0.9978</td>\n",
       "      <td>3.51</td>\n",
       "      <td>0.56</td>\n",
       "      <td>9.4</td>\n",
       "      <td>5</td>\n",
       "    </tr>\n",
       "    <tr>\n",
       "      <th>2</th>\n",
       "      <td>7.8</td>\n",
       "      <td>0.88</td>\n",
       "      <td>0.00</td>\n",
       "      <td>2.6</td>\n",
       "      <td>0.098</td>\n",
       "      <td>25.0</td>\n",
       "      <td>67.0</td>\n",
       "      <td>0.9968</td>\n",
       "      <td>3.20</td>\n",
       "      <td>0.68</td>\n",
       "      <td>9.8</td>\n",
       "      <td>5</td>\n",
       "    </tr>\n",
       "    <tr>\n",
       "      <th>3</th>\n",
       "      <td>7.8</td>\n",
       "      <td>0.76</td>\n",
       "      <td>0.04</td>\n",
       "      <td>2.3</td>\n",
       "      <td>0.092</td>\n",
       "      <td>15.0</td>\n",
       "      <td>54.0</td>\n",
       "      <td>0.9970</td>\n",
       "      <td>3.26</td>\n",
       "      <td>0.65</td>\n",
       "      <td>9.8</td>\n",
       "      <td>5</td>\n",
       "    </tr>\n",
       "    <tr>\n",
       "      <th>4</th>\n",
       "      <td>11.2</td>\n",
       "      <td>0.28</td>\n",
       "      <td>0.56</td>\n",
       "      <td>1.9</td>\n",
       "      <td>0.075</td>\n",
       "      <td>17.0</td>\n",
       "      <td>60.0</td>\n",
       "      <td>0.9980</td>\n",
       "      <td>3.16</td>\n",
       "      <td>0.58</td>\n",
       "      <td>9.8</td>\n",
       "      <td>6</td>\n",
       "    </tr>\n",
       "  </tbody>\n",
       "</table>\n",
       "</div>"
      ],
      "text/plain": [
       "   fixed acidity  volatile acidity  citric acid  residual sugar  chlorides  \\\n",
       "0            7.4              0.70         0.00             1.9      0.076   \n",
       "1            7.4              0.70         0.00             1.9      0.076   \n",
       "2            7.8              0.88         0.00             2.6      0.098   \n",
       "3            7.8              0.76         0.04             2.3      0.092   \n",
       "4           11.2              0.28         0.56             1.9      0.075   \n",
       "\n",
       "   free sulfur dioxide  total sulfur dioxide  density    pH  sulphates  \\\n",
       "0                 11.0                  34.0   0.9978  3.51       0.56   \n",
       "1                 11.0                  34.0   0.9978  3.51       0.56   \n",
       "2                 25.0                  67.0   0.9968  3.20       0.68   \n",
       "3                 15.0                  54.0   0.9970  3.26       0.65   \n",
       "4                 17.0                  60.0   0.9980  3.16       0.58   \n",
       "\n",
       "   alcohol  quality  \n",
       "0      9.4        5  \n",
       "1      9.4        5  \n",
       "2      9.8        5  \n",
       "3      9.8        5  \n",
       "4      9.8        6  "
      ]
     },
     "execution_count": 3,
     "metadata": {},
     "output_type": "execute_result"
    }
   ],
   "source": [
    "#  Read the CSV and Perform Basic Data Cleaning\n",
    "df1 = pd.read_csv('data/winequality-red.csv', sep=';')\n",
    "df2 = pd.read_csv('data/winequality-white.csv', sep=';')\n",
    "# Drop the null columns where all values are null\n",
    "df1 = df1.dropna(axis='columns', how='all')\n",
    "df2 = df2.dropna(axis='columns', how='all')\n",
    "# Drop the null rows\n",
    "df1 = df1.dropna()\n",
    "df2 = df2.dropna()\n",
    "# Merge two dataframes\n",
    "df = df1.merge(df2, how='outer')\n",
    "\n",
    "# pick white/red\n",
    "# df = df2 # pick white\n",
    "df.head()"
   ]
  },
  {
   "cell_type": "code",
   "execution_count": 4,
   "metadata": {},
   "outputs": [],
   "source": [
    "#Dividing wine as good and bad by giving the limit for the quality\n",
    "bins = (2, 6.5, 9)\n",
    "group_names = ['bad', 'good']\n",
    "df['quality'] = pd.cut(df['quality'], bins = bins, labels = group_names)"
   ]
  },
  {
   "cell_type": "code",
   "execution_count": 5,
   "metadata": {},
   "outputs": [],
   "source": [
    "#Now lets assign a labels to our quality variable\n",
    "label_quality = LabelEncoder()"
   ]
  },
  {
   "cell_type": "code",
   "execution_count": 6,
   "metadata": {},
   "outputs": [],
   "source": [
    "#Bad becomes 0 and good becomes 1 \n",
    "df['quality'] = label_quality.fit_transform(df['quality'])"
   ]
  },
  {
   "cell_type": "code",
   "execution_count": 7,
   "metadata": {
    "scrolled": true
   },
   "outputs": [
    {
     "data": {
      "text/plain": [
       "0    5219\n",
       "1    1276\n",
       "Name: quality, dtype: int64"
      ]
     },
     "execution_count": 7,
     "metadata": {},
     "output_type": "execute_result"
    }
   ],
   "source": [
    "df['quality'].value_counts()"
   ]
  },
  {
   "cell_type": "code",
   "execution_count": 8,
   "metadata": {},
   "outputs": [],
   "source": [
    "#  Create a Train Test Split\n",
    "from sklearn.model_selection import train_test_split\n",
    "y = df[\"quality\"]\n",
    "X = df.drop(columns=[\"quality\"])\n",
    "# X = df[[\"citric acid\", \"chlorides\", \"alcohol\"]]\n",
    "X_train, X_test, y_train, y_test = train_test_split(X, y, random_state=1, stratify=y)"
   ]
  },
  {
   "cell_type": "code",
   "execution_count": 9,
   "metadata": {},
   "outputs": [],
   "source": [
    "# Pre-processing\n",
    "from sklearn.preprocessing import MinMaxScaler\n",
    "X_scaler = MinMaxScaler().fit(X_train)\n",
    "\n",
    "X_train_scaled = X_scaler.transform(X_train)\n",
    "X_test_scaled = X_scaler.transform(X_test)"
   ]
  },
  {
   "cell_type": "code",
   "execution_count": 21,
   "metadata": {},
   "outputs": [
    {
     "name": "stdout",
     "output_type": "stream",
     "text": [
      "      fixed acidity  volatile acidity  citric acid  residual sugar  chlorides  \\\n",
      "6087            5.8             0.300         0.33             3.5      0.033   \n",
      "1531            6.1             0.705         0.10             2.8      0.081   \n",
      "\n",
      "      free sulfur dioxide  total sulfur dioxide  density   pH  sulphates  \\\n",
      "6087                 25.0                 116.0  0.99057  3.2       0.44   \n",
      "1531                 13.0                  28.0  0.99631  3.6       0.66   \n",
      "\n",
      "      alcohol  \n",
      "6087     11.7  \n",
      "1531     10.2  \n"
     ]
    }
   ],
   "source": [
    "print(X_test[:2])"
   ]
  },
  {
   "cell_type": "code",
   "execution_count": 23,
   "metadata": {},
   "outputs": [
    {
     "name": "stdout",
     "output_type": "stream",
     "text": [
      "[[0.31404959 0.016      0.26829268 0.00613497 0.03654485 0.11111111\n",
      "  0.20046083 0.07383844 0.2519685  0.26589595 0.46376812]\n",
      " [0.41322314 0.232      0.3902439  0.02300613 0.1461794  0.13194444\n",
      "  0.3202765  0.20030846 0.23622047 0.46820809 0.1884058 ]]\n"
     ]
    }
   ],
   "source": [
    "print(X_train_scaled[:2])"
   ]
  },
  {
   "cell_type": "code",
   "execution_count": 10,
   "metadata": {
    "scrolled": true
   },
   "outputs": [],
   "source": [
    "import tensorflow as tf\n",
    "from keras.models import Sequential\n",
    "from keras.utils import to_categorical\n",
    "from keras.layers import Dense\n",
    "from sklearn.preprocessing import LabelEncoder\n",
    "from keras.callbacks import EarlyStopping"
   ]
  },
  {
   "cell_type": "code",
   "execution_count": 11,
   "metadata": {},
   "outputs": [],
   "source": [
    "label_encoder = LabelEncoder()\n",
    "label_encoder.fit(y_train)\n",
    "encoded_y_train = label_encoder.transform(y_train)\n",
    "encoded_y_test = label_encoder.transform(y_test)\n",
    "\n",
    "y_train_categorical = to_categorical(encoded_y_train)\n",
    "y_test_categorical = to_categorical(encoded_y_test)"
   ]
  },
  {
   "cell_type": "code",
   "execution_count": 12,
   "metadata": {},
   "outputs": [
    {
     "data": {
      "text/plain": [
       "(4871, 2)"
      ]
     },
     "execution_count": 12,
     "metadata": {},
     "output_type": "execute_result"
    }
   ],
   "source": [
    "y_train_categorical.shape"
   ]
  },
  {
   "cell_type": "code",
   "execution_count": 13,
   "metadata": {},
   "outputs": [],
   "source": [
    "# Train the Model\n",
    "model = Sequential()\n",
    "model.add(Dense(units=200, activation='relu', input_dim=11))\n",
    "model.add(Dense(units=200, activation='relu'))\n",
    "# model.add(Dense(units=2, activation='sigmoid'))\n",
    "model.add(Dense(units=2, activation='softmax'))"
   ]
  },
  {
   "cell_type": "code",
   "execution_count": 14,
   "metadata": {},
   "outputs": [],
   "source": [
    "# Compile and fit the model\n",
    "model.compile(optimizer='adam',\n",
    "              loss='categorical_crossentropy',\n",
    "              metrics=['accuracy'])"
   ]
  },
  {
   "cell_type": "code",
   "execution_count": 15,
   "metadata": {},
   "outputs": [
    {
     "name": "stdout",
     "output_type": "stream",
     "text": [
      "Model: \"sequential\"\n",
      "_________________________________________________________________\n",
      "Layer (type)                 Output Shape              Param #   \n",
      "=================================================================\n",
      "dense (Dense)                (None, 200)               2400      \n",
      "_________________________________________________________________\n",
      "dense_1 (Dense)              (None, 200)               40200     \n",
      "_________________________________________________________________\n",
      "dense_2 (Dense)              (None, 2)                 402       \n",
      "=================================================================\n",
      "Total params: 43,002\n",
      "Trainable params: 43,002\n",
      "Non-trainable params: 0\n",
      "_________________________________________________________________\n"
     ]
    }
   ],
   "source": [
    " model.summary()"
   ]
  },
  {
   "cell_type": "code",
   "execution_count": 16,
   "metadata": {},
   "outputs": [
    {
     "name": "stdout",
     "output_type": "stream",
     "text": [
      "Epoch 1/90\n",
      "153/153 - 1s - loss: 0.4407 - accuracy: 0.8041\n",
      "Epoch 2/90\n",
      "153/153 - 0s - loss: 0.3985 - accuracy: 0.8140\n",
      "Epoch 3/90\n",
      "153/153 - 0s - loss: 0.3898 - accuracy: 0.8150\n",
      "Epoch 4/90\n",
      "153/153 - 0s - loss: 0.3819 - accuracy: 0.8183\n",
      "Epoch 5/90\n",
      "153/153 - 0s - loss: 0.3785 - accuracy: 0.8177\n",
      "Epoch 6/90\n",
      "153/153 - 0s - loss: 0.3760 - accuracy: 0.8202\n",
      "Epoch 7/90\n",
      "153/153 - 0s - loss: 0.3656 - accuracy: 0.8247\n",
      "Epoch 8/90\n",
      "153/153 - 0s - loss: 0.3685 - accuracy: 0.8292\n",
      "Epoch 9/90\n",
      "153/153 - 0s - loss: 0.3608 - accuracy: 0.8300\n",
      "Epoch 10/90\n",
      "153/153 - 0s - loss: 0.3613 - accuracy: 0.8310\n",
      "Epoch 11/90\n",
      "153/153 - 0s - loss: 0.3562 - accuracy: 0.8329\n",
      "Epoch 12/90\n",
      "153/153 - 0s - loss: 0.3550 - accuracy: 0.8351\n",
      "Epoch 13/90\n",
      "153/153 - 0s - loss: 0.3499 - accuracy: 0.8362\n",
      "Epoch 14/90\n",
      "153/153 - 0s - loss: 0.3490 - accuracy: 0.8317\n",
      "Epoch 15/90\n",
      "153/153 - 0s - loss: 0.3486 - accuracy: 0.8325\n",
      "Epoch 16/90\n",
      "153/153 - 0s - loss: 0.3491 - accuracy: 0.8343\n",
      "Epoch 17/90\n",
      "153/153 - 0s - loss: 0.3451 - accuracy: 0.8370\n",
      "Epoch 18/90\n",
      "153/153 - 0s - loss: 0.3437 - accuracy: 0.8354\n",
      "Epoch 19/90\n",
      "153/153 - 0s - loss: 0.3428 - accuracy: 0.8372\n",
      "Epoch 20/90\n",
      "153/153 - 0s - loss: 0.3401 - accuracy: 0.8388\n",
      "Epoch 21/90\n",
      "153/153 - 0s - loss: 0.3417 - accuracy: 0.8370\n",
      "Epoch 22/90\n",
      "153/153 - 0s - loss: 0.3380 - accuracy: 0.8360\n",
      "Epoch 23/90\n",
      "153/153 - 0s - loss: 0.3388 - accuracy: 0.8423\n",
      "Epoch 24/90\n",
      "153/153 - 0s - loss: 0.3368 - accuracy: 0.8397\n",
      "Epoch 25/90\n",
      "153/153 - 0s - loss: 0.3362 - accuracy: 0.8409\n",
      "Epoch 26/90\n",
      "153/153 - 0s - loss: 0.3408 - accuracy: 0.8372\n",
      "Epoch 27/90\n",
      "153/153 - 0s - loss: 0.3332 - accuracy: 0.8438\n",
      "Epoch 28/90\n",
      "153/153 - 0s - loss: 0.3313 - accuracy: 0.8442\n",
      "Epoch 29/90\n",
      "153/153 - 0s - loss: 0.3316 - accuracy: 0.8401\n",
      "Epoch 30/90\n",
      "153/153 - 0s - loss: 0.3311 - accuracy: 0.8411\n",
      "Epoch 31/90\n",
      "153/153 - 0s - loss: 0.3296 - accuracy: 0.8436\n",
      "Epoch 32/90\n",
      "153/153 - 0s - loss: 0.3312 - accuracy: 0.8448\n",
      "Epoch 33/90\n",
      "153/153 - 0s - loss: 0.3282 - accuracy: 0.8444\n",
      "Epoch 34/90\n",
      "153/153 - 0s - loss: 0.3246 - accuracy: 0.8466\n",
      "Epoch 35/90\n",
      "153/153 - 0s - loss: 0.3273 - accuracy: 0.8460\n",
      "Epoch 36/90\n",
      "153/153 - 0s - loss: 0.3245 - accuracy: 0.8466\n",
      "Epoch 37/90\n",
      "153/153 - 0s - loss: 0.3227 - accuracy: 0.8454\n",
      "Epoch 38/90\n",
      "153/153 - 0s - loss: 0.3220 - accuracy: 0.8483\n",
      "Epoch 39/90\n",
      "153/153 - 0s - loss: 0.3197 - accuracy: 0.8471\n",
      "Epoch 40/90\n",
      "153/153 - 0s - loss: 0.3203 - accuracy: 0.8466\n",
      "Epoch 41/90\n",
      "153/153 - 0s - loss: 0.3167 - accuracy: 0.8493\n",
      "Epoch 42/90\n",
      "153/153 - 0s - loss: 0.3157 - accuracy: 0.8495\n",
      "Epoch 43/90\n",
      "153/153 - 0s - loss: 0.3168 - accuracy: 0.8471\n",
      "Epoch 44/90\n",
      "153/153 - 0s - loss: 0.3164 - accuracy: 0.8485\n"
     ]
    },
    {
     "data": {
      "text/plain": [
       "<tensorflow.python.keras.callbacks.History at 0x213c9b1ebe0>"
      ]
     },
     "execution_count": 16,
     "metadata": {},
     "output_type": "execute_result"
    }
   ],
   "source": [
    "# set early stopping as callback\n",
    "callbacks = [EarlyStopping(monitor='loss', patience=2)]\n",
    "model.fit(\n",
    "    X_train_scaled,\n",
    "    y_train_categorical,\n",
    "    callbacks=callbacks,\n",
    "    epochs=90,\n",
    "    shuffle=True,\n",
    "    verbose=2\n",
    ")"
   ]
  },
  {
   "cell_type": "code",
   "execution_count": 18,
   "metadata": {},
   "outputs": [
    {
     "name": "stdout",
     "output_type": "stream",
     "text": [
      "51/51 - 0s - loss: 0.3565 - accuracy: 0.8282\n",
      "Normal Neural Network - Loss: 0.35647597908973694, Accuracy: 0.828201949596405\n"
     ]
    }
   ],
   "source": [
    "model_loss, model_accuracy = model.evaluate(\n",
    "    X_test_scaled, y_test_categorical, verbose=2)\n",
    "print(\n",
    "    f\"Normal Neural Network - Loss: {model_loss}, Accuracy: {model_accuracy}\")"
   ]
  },
  {
   "cell_type": "code",
   "execution_count": 19,
   "metadata": {},
   "outputs": [
    {
     "name": "stderr",
     "output_type": "stream",
     "text": [
      "C:\\Users\\gu202\\anaconda3\\envs\\pythonMain\\lib\\site-packages\\tensorflow\\python\\keras\\engine\\sequential.py:450: UserWarning: `model.predict_classes()` is deprecated and will be removed after 2021-01-01. Please use instead:* `np.argmax(model.predict(x), axis=-1)`,   if your model does multi-class classification   (e.g. if it uses a `softmax` last-layer activation).* `(model.predict(x) > 0.5).astype(\"int32\")`,   if your model does binary classification   (e.g. if it uses a `sigmoid` last-layer activation).\n",
      "  warnings.warn('`model.predict_classes()` is deprecated and '\n"
     ]
    }
   ],
   "source": [
    "encoded_predictions = model.predict_classes(X_test_scaled[:20])\n",
    "prediction_labels = label_encoder.inverse_transform(encoded_predictions)"
   ]
  },
  {
   "cell_type": "code",
   "execution_count": 20,
   "metadata": {},
   "outputs": [
    {
     "name": "stdout",
     "output_type": "stream",
     "text": [
      "[[0.16528926 0.176      0.26829268 0.04447853 0.03986711 0.08333333\n",
      "  0.25345622 0.06670522 0.36220472 0.12716763 0.53623188]\n",
      " [0.19008264 0.5        0.08130081 0.03374233 0.11960133 0.04166667\n",
      "  0.05069124 0.17736649 0.67716535 0.25433526 0.31884058]]\n"
     ]
    }
   ],
   "source": [
    "print(X_test_scaled[:2])"
   ]
  },
  {
   "cell_type": "code",
   "execution_count": 18,
   "metadata": {},
   "outputs": [
    {
     "name": "stdout",
     "output_type": "stream",
     "text": [
      "Predicted classes: [0 0 0 0 0 0 0 0 0 0 0 0 0 0 0 0 0 0 0 0]\n",
      "Actual Labels: [0, 0, 0, 0, 1, 0, 0, 1, 0, 0, 0, 0, 0, 1, 0, 0, 0, 0, 0, 0]\n"
     ]
    }
   ],
   "source": [
    "print(f\"Predicted classes: {prediction_labels}\")\n",
    "print(f\"Actual Labels: {list(y_test[:20])}\")"
   ]
  },
  {
   "cell_type": "code",
   "execution_count": 19,
   "metadata": {},
   "outputs": [],
   "source": [
    "# save fitted model to file\n",
    "model.save(\"model.h5\")"
   ]
  },
  {
   "cell_type": "code",
   "execution_count": null,
   "metadata": {},
   "outputs": [],
   "source": []
  }
 ],
 "metadata": {
  "kernelspec": {
   "display_name": "Python [conda env:pythonmain] *",
   "language": "python",
   "name": "conda-env-pythonmain-py"
  },
  "language_info": {
   "codemirror_mode": {
    "name": "ipython",
    "version": 3
   },
   "file_extension": ".py",
   "mimetype": "text/x-python",
   "name": "python",
   "nbconvert_exporter": "python",
   "pygments_lexer": "ipython3",
   "version": "3.6.10"
  }
 },
 "nbformat": 4,
 "nbformat_minor": 4
}
